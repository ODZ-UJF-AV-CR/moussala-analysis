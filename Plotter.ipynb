{
 "cells": [
  {
   "cell_type": "markdown",
   "metadata": {},
   "source": [
    "# Plot the data from HDF data file"
   ]
  },
  {
   "cell_type": "code",
   "execution_count": null,
   "metadata": {},
   "outputs": [],
   "source": [
    "import matplotlib.pyplot as plt\n",
    "import pylab\n",
    "import numpy as np\n",
    "import pandas as pd\n",
    "import datetime\n",
    "from IPython.display import display, Math, Latex\n",
    "import sys\n",
    "import gc\n",
    "import plotly\n",
    "import plotly.graph_objs as go\n",
    "plotly.offline.init_notebook_mode(connected=True)\n",
    "\n",
    "store = pd.HDFStore('moussala.h5',mode='r')\n",
    "\n",
    "#A1r=store['A1']['flux'].resample('5T').mean()\n",
    "#A2r=store['A2']['flux'].resample('5T').mean()\n",
    "#Lr=store['liulin']['flux'].resample('5T').bfill()\n",
    "\n",
    "A1r=store['A1']['flux'].resample('10T').mean()\n",
    "gc.collect()\n",
    "A2r=store['A2']['flux'].resample('10T').mean()\n",
    "gc.collect()\n",
    "Lr=store['liulin']['flux']\n",
    "gc.collect()"
   ]
  },
  {
   "cell_type": "code",
   "execution_count": null,
   "metadata": {},
   "outputs": [],
   "source": [
    "plt.rcParams[\"figure.figsize\"] = [16,9]\n",
    "ax = pylab.subplot(111)\n",
    "ax.plot(A1r,label='A1')\n",
    "ax.plot(A2r,label='A2')\n",
    "ax.plot(Lr,label='Liulin')\n",
    "legend = ax.legend(loc='upper right')\n",
    "plt.ylim(0,0.25)\n",
    "plt.xlim('2017-12-11','2017-12-17')\n",
    "plt.show()"
   ]
  },
  {
   "cell_type": "markdown",
   "metadata": {},
   "source": [
    "# Data in the common measurement period"
   ]
  },
  {
   "cell_type": "code",
   "execution_count": null,
   "metadata": {},
   "outputs": [],
   "source": [
    "A1r=A1r.loc['2017-12-18':'2018-04-26']\n",
    "A2r=A2r.loc['2017-12-18':'2018-04-26']\n",
    "A1r.drop(A1r[A1r > 0.17].index,inplace=True)\n",
    "A2r.drop(A2r[A2r > 0.17].index,inplace=True)\n",
    "Lr.drop(Lr[Lr > 0.17].index,inplace=True)\n",
    "\n",
    "plt.rcParams[\"figure.figsize\"] = [16,9]\n",
    "ax = pylab.subplot(111)\n",
    "ax.plot(A1r,label='A1')\n",
    "ax.plot(A2r,label='A2')\n",
    "ax.plot(Lr,label='Liulin')\n",
    "legend = ax.legend(loc='upper right')\n",
    "#plt.ylim(0,2)\n",
    "plt.xlim('2017-12-17','2018-04-26')\n",
    "plt.show()"
   ]
  },
  {
   "cell_type": "code",
   "execution_count": null,
   "metadata": {},
   "outputs": [],
   "source": [
    "layout = dict(\n",
    "    title = \"Moussala data\",\n",
    "    xaxis=dict(\n",
    "        type='date'\n",
    "    ),\n",
    "    #height=1000\n",
    ")\n",
    "\n",
    "data_a1r = go.Scattergl(x=A1r.index, y=A1r, mode='markers', \n",
    "                    marker = dict(\n",
    "                        size = 5,\n",
    "                        color = 'rgba(255,0,0,0.7)',\n",
    "                        line = dict(\n",
    "                            width = 0,\n",
    "                        )\n",
    "                    ),\n",
    "                    name='A1')\n",
    "\n",
    "data_a2r = go.Scattergl(x=A2r.index, y=A2r, mode='markers', \n",
    "                    marker = dict(\n",
    "                        size = 5,\n",
    "                        color = 'rgba(128,0,0,0.7)',\n",
    "                        line = dict(\n",
    "                            width = 0,\n",
    "                        )\n",
    "                    ),\n",
    "                    name='A2')\n",
    "\n",
    "\n",
    "data_liulinr = go.Scattergl(x=Lr.index, y=Lr, mode='markers', \n",
    "                 marker = dict(\n",
    "                        size = 5,\n",
    "                        color = 'rgba(0,255,0,0.7)',\n",
    "                        line = dict(\n",
    "                            width = 0,\n",
    "                        )\n",
    "                 ),\n",
    "                 name='Liulin')\n",
    "\n",
    "#fig = dict(data=[data_a1,data_a2,data_liulin], layout=layout)\n",
    "fig = dict(data=[data_a1r,data_a2r,data_liulinr], layout=layout)\n",
    "\n",
    "plotly.offline.iplot(fig)"
   ]
  },
  {
   "cell_type": "code",
   "execution_count": null,
   "metadata": {},
   "outputs": [],
   "source": []
  }
 ],
 "metadata": {
  "kernelspec": {
   "display_name": "Python 2",
   "language": "python",
   "name": "python2"
  },
  "language_info": {
   "codemirror_mode": {
    "name": "ipython",
    "version": 2
   },
   "file_extension": ".py",
   "mimetype": "text/x-python",
   "name": "python",
   "nbconvert_exporter": "python",
   "pygments_lexer": "ipython2",
   "version": "2.7.12"
  },
  "widgets": {
   "state": {},
   "version": "1.1.2"
  }
 },
 "nbformat": 4,
 "nbformat_minor": 2
}
