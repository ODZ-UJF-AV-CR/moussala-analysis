{
 "cells": [
  {
   "cell_type": "markdown",
   "metadata": {},
   "source": [
    "# Plot channel spectra from the CSV files"
   ]
  },
  {
   "cell_type": "markdown",
   "metadata": {},
   "source": [
    "Plots channel spectra data from provided CSV files.\n"
   ]
  },
  {
   "cell_type": "code",
   "execution_count": null,
   "metadata": {},
   "outputs": [],
   "source": [
    "import matplotlib.pyplot as plt\n",
    "import numpy as np\n",
    "import pandas as pd\n",
    "import datetime\n",
    "from IPython.display import display, Math, Latex\n",
    "import sys\n",
    "import gc\n",
    "import plotly\n",
    "import plotly.graph_objs as go\n",
    "plotly.offline.init_notebook_mode(connected=True)"
   ]
  },
  {
   "cell_type": "markdown",
   "metadata": {},
   "source": [
    "# Compute channel spectrum for Liulin"
   ]
  },
  {
   "cell_type": "code",
   "execution_count": null,
   "metadata": {},
   "outputs": [],
   "source": [
    "# Import Liulin measurements processed by the timestamp format transformation sed script\n",
    "surface = 2 # cm2\n",
    "df = pd.read_csv('liulin-all.dat', sep=',', header=0, parse_dates=[0])\n",
    "df['flux'] = df.iloc[:,range(3,260)].sum(axis=1)/(surface*df.exposition)\n",
    "df.set_index('timestamp',inplace=True)\n",
    "\n",
    "# Detect events, where ch1 > 0, e.g. we assume that there was some interference\n",
    "# Move these to another dataframe\n",
    "dfn = df[df['ch1'] > 0]\n",
    "\n",
    "# Remove that noise from the original dataframe\n",
    "df.drop(df[df['ch1'] > 0].index,inplace=True)\n",
    "\n",
    "print(np.shape(df))"
   ]
  },
  {
   "cell_type": "code",
   "execution_count": null,
   "metadata": {},
   "outputs": [],
   "source": [
    "## Compute channel histogram for Liulin data\n",
    "### Data columns are 5..260\n",
    "liulin_channelHisto=df.iloc[:,3:260].sum(axis=0).T\n",
    "print(np.shape(liulin_channelHisto))"
   ]
  },
  {
   "cell_type": "markdown",
   "metadata": {},
   "source": [
    "# Channel histogram plot"
   ]
  },
  {
   "cell_type": "code",
   "execution_count": null,
   "metadata": {},
   "outputs": [],
   "source": [
    "# Compute channel histogram\n",
    "def compute_channels( fna ):\n",
    "    #fna = 'A2-test.csv'\n",
    "    # Number of lines in the file\n",
    "    fna_chunksize = 100000\n",
    "    dfa_chunks = pd.read_csv(fna, sep=',', header=None, comment='*', parse_dates=[0], error_bad_lines=False,chunksize=fna_chunksize)\n",
    "\n",
    "    skip_chunks = 0\n",
    "    chunk_number = 0\n",
    "    lines_parsed = 0\n",
    "    for chunk in dfa_chunks:\n",
    "        chunk_number = chunk_number + 1\n",
    "        if (chunk_number > skip_chunks):\n",
    "            # Drop where flux above norm\n",
    "            chunk['flux']=chunk.iloc[:,267:515].sum(axis=1).astype('float64')\n",
    "            # Tohle je logicke pro Liulin, ale pro nepresamplovana data z Airdosu nezbytně ne.\n",
    "            # To jsem zkoušel obejít přes ty kvantily.\n",
    "            chunk.drop(chunk[chunk['flux'] > 0.17*20.48].index, inplace=True)\n",
    "\n",
    "            # Compute channel histogram in the chunk\n",
    "            chunk_sum=chunk.iloc[:,3:515].sum(axis=0).T\n",
    "            if (chunk_number==skip_chunks+1):\n",
    "                dfa_channelHisto=chunk_sum\n",
    "            else:\n",
    "                dfa_channelHisto=dfa_channelHisto+chunk_sum\n",
    "            lines_parsed+=len(chunk.index)\n",
    "            print(repr(fna)+' parsed '+repr(lines_parsed)+' lines.')\n",
    "            del chunk_sum\n",
    "            del chunk\n",
    "            gc.collect()\n",
    "            #print('Histo:')\n",
    "            #print(dfa_channelHisto)\n",
    "            #print(chunk_number*fna_chunksize,dfa_channelHisto.sum())\n",
    "            if ((chunk_number-skip_chunks)*fna_chunksize > 1e8):\n",
    "                break\n",
    "\n",
    "            # Beware - resetting column index\n",
    "            #dfa_channelHisto = dfa_channelHisto.reset_index(drop=True)\n",
    "        else:\n",
    "            print('Skipping chunk '+repr(chunk_number))\n",
    "    del dfa_chunks\n",
    "    print(repr(fna)+' Done '+repr(lines_parsed)+' lines.')\n",
    "    return dfa_channelHisto"
   ]
  },
  {
   "cell_type": "code",
   "execution_count": null,
   "metadata": {
    "scrolled": false
   },
   "outputs": [],
   "source": [
    "# Chunked processor\n",
    "dfa1_channelHisto=compute_channels('A1-2017-2018-04.csv')\n",
    "dfa2_channelHisto=compute_channels('A2-2017-2018-04.csv')"
   ]
  },
  {
   "cell_type": "code",
   "execution_count": null,
   "metadata": {},
   "outputs": [],
   "source": [
    "layout = dict(\n",
    "    title = \"Channel histogram - using assumed energy ranges\",\n",
    "    xaxis=dict(\n",
    "        #range=[dfa1_channelHisto[dfa_channelHisto != 0.0].first_valid_index(),514],\n",
    "        range=[0.3,4],\n",
    "        title='Channel energy [MeV]'\n",
    "    ),\n",
    "    yaxis=dict(\n",
    "        #type='log',\n",
    "        #autorange=True\n",
    "        range=[0,10000]\n",
    "    )\n",
    ")\n",
    "\n",
    "# Liulin channel width in MeV\n",
    "liulin_chanwidth=0.0814\n",
    "liulin_skip=0\n",
    "data_liulin = go.Scattergl(x=np.arange(0,(256-liulin_skip)*liulin_chanwidth,liulin_chanwidth), y=liulin_channelHisto[liulin_skip:], name='Liulin')\n",
    "\n",
    "# Bacha, Dasa namita peak\n",
    "a1min=255\n",
    "a1emax=6.5\n",
    "#a1emax=6.0/(2.28/1.47)\n",
    "print('Estimated energy range: '+repr(a1emax)+' MeV')\n",
    "data_a1chh = go.Scattergl(x=np.arange(0,a1emax,a1emax/(515-a1min)),y=dfa1_channelHisto[a1min:515],name='A1')\n",
    "\n",
    "a2min=257\n",
    "a2emax=a1emax\n",
    "data_a2chh = go.Scattergl(x=np.arange(0,a2emax,a2emax/(515-a2min)),y=dfa2_channelHisto[a2min:515], name='A2')\n",
    "\n",
    "fig = dict(data=[data_liulin,data_a1chh,data_a2chh], layout=layout)\n",
    "\n",
    "plotly.offline.iplot(fig)"
   ]
  },
  {
   "cell_type": "code",
   "execution_count": null,
   "metadata": {},
   "outputs": [],
   "source": [
    "layout = dict(\n",
    "    title = \"Channel histogram - raw channels\",\n",
    "    xaxis=dict(\n",
    "        #range=[dfa1_channelHisto[dfa_channelHisto != 0.0].first_valid_index(),514],\n",
    "        #range=[0.3,4],\n",
    "        title='Channel number'\n",
    "    ),\n",
    "    yaxis=dict(\n",
    "        type='log',\n",
    "        autorange=True\n",
    "        #range=[0,10000]\n",
    "    )\n",
    ")\n",
    "\n",
    "# Liulin channel width in MeV\n",
    "liulin_chanwidth=0.0814\n",
    "liulin_skip=0\n",
    "# Rough estimate\n",
    "data_liulin = go.Scattergl(x=np.arange(256,4*256,4), y=liulin_channelHisto[liulin_skip:], name='Liulin (shifted)')\n",
    "\n",
    "# Rough channel numbers\n",
    "data_a1chh = go.Scattergl(y=dfa1_channelHisto[0:515],name='A1')\n",
    "data_a2chh = go.Scattergl(y=dfa2_channelHisto[0:515], name='A2')\n",
    "\n",
    "fig = dict(data=[data_liulin,data_a1chh,data_a2chh], layout=layout)\n",
    "\n",
    "plotly.offline.iplot(fig)"
   ]
  },
  {
   "cell_type": "code",
   "execution_count": null,
   "metadata": {},
   "outputs": [],
   "source": [
    "# If the noise is symmetric, it should be possible to subtract 255..0 from 256..512 \n",
    "# Subtract noise from first half from second half. \n",
    "# Doesn't seem to work right now.\n",
    "a1min=255\n",
    "data=dfa1_channelHisto[a1min:]\n",
    "data.reset_index(inplace=True,drop=True)\n",
    "\n",
    "noise=np.flip(dfa1_channelHisto[:a1min+1],axis=0)\n",
    "noise.reset_index(inplace=True,drop=True)\n",
    "data=data-noise\n",
    "a1data=data[data>0]\n",
    "\n",
    "# Subtract noise from first half from second half\n",
    "a2min=257\n",
    "data=dfa2_channelHisto[a2min:]\n",
    "data.reset_index(inplace=True,drop=True)\n",
    "\n",
    "noise=np.flip(dfa2_channelHisto[:a2min+1],axis=0)\n",
    "noise.reset_index(inplace=True,drop=True)\n",
    "data=data-noise\n",
    "a2data=data[data>0]\n",
    "\n",
    "layout = dict(\n",
    "    title = \"Channel histogram\",\n",
    "    xaxis=dict(\n",
    "        #range=[dfa1_channelHisto[dfa_channelHisto != 0.0].first_valid_index(),514],\n",
    "        range=[0.3,4],\n",
    "        title='Channel energy [MeV]'\n",
    "    ),\n",
    "    yaxis=dict(\n",
    "        #type='log',\n",
    "        #autorange=True,\n",
    "        range=[0,20000]\n",
    "    )\n",
    ")\n",
    "\n",
    "liulin_chanwidth=0.0814\n",
    "liulin_skip=7\n",
    "data_liulin = go.Scattergl(x=np.arange(0,(256-liulin_skip)*liulin_chanwidth,liulin_chanwidth), y=liulin_channelHisto[7:], name='Liulin')\n",
    "\n",
    "a1min=255\n",
    "a1emax=6.0/(2.28/1.47)\n",
    "print('Estimated energy range: '+repr(a1emax)+'MeV')\n",
    "data_a1chh = go.Scattergl(x=np.arange(0,a1emax,a1emax/256),y=a1data, name='A1')\n",
    "\n",
    "a2min=257\n",
    "a2emax=a1emax\n",
    "data_a2chh = go.Scattergl(x=np.arange(0,a2emax,a2emax/256),y=a2data, name='A2')\n",
    "\n",
    "fig = dict(data=[data_liulin,data_a1chh,data_a2chh], layout=layout)\n",
    "\n",
    "plotly.offline.iplot(fig)"
   ]
  }
 ],
 "metadata": {
  "kernelspec": {
   "display_name": "Python 2",
   "language": "python",
   "name": "python2"
  },
  "language_info": {
   "codemirror_mode": {
    "name": "ipython",
    "version": 2
   },
   "file_extension": ".py",
   "mimetype": "text/x-python",
   "name": "python",
   "nbconvert_exporter": "python",
   "pygments_lexer": "ipython2",
   "version": "2.7.12"
  },
  "widgets": {
   "state": {},
   "version": "1.1.2"
  }
 },
 "nbformat": 4,
 "nbformat_minor": 2
}
